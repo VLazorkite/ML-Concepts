{
 "cells": [
  {
   "cell_type": "markdown",
   "metadata": {},
   "source": [
    "# Neural Network #\n",
    "## Python Tutorial ##\n",
    "\n",
    "Neural networks are computational models inspired by the human brain's structure and function, capable of learning and making predictions from complex data.\n",
    "\n",
    "This looks something like this\n",
    "\n",
    "![SimpleNN](https://pyimagesearch.com/wp-content/uploads/2016/08/simple_neural_network_header.jpg)"
   ]
  },
  {
   "cell_type": "markdown",
   "metadata": {},
   "source": [
    "The example above is called a multilayer perceptron.\n",
    "\n",
    "Neural networks process input data through layers of neurons, where each neuron applies transformations to the data using activation functions and learns to make predictions by adjusting its parameters during training, aiming to minimize prediction errors.\n",
    "\n",
    "<i>Note: There are as many hidden layers and neurons as you want and more does not necessarily imply better</i>\n",
    "<hr/>"
   ]
  },
  {
   "cell_type": "markdown",
   "metadata": {},
   "source": [
    "#### Importing Libraries ####\n",
    "\n",
    "Here are pieces of other people's code that will help as understand what we're doing along the way\n",
    "\n",
    "To install these click terminal on whichever IDE you're using and use pip to instal eg: <code>pip install matplotlib.pyplot</code>"
   ]
  },
  {
   "cell_type": "code",
   "execution_count": 1,
   "metadata": {},
   "outputs": [],
   "source": [
    "import numpy as np\n",
    "import pandas as pd\n",
    "from matplotlib import pyplot as plt"
   ]
  },
  {
   "cell_type": "markdown",
   "metadata": {},
   "source": [
    "## How to do It ##"
   ]
  },
  {
   "cell_type": "markdown",
   "metadata": {},
   "source": [
    "This is the MNIST dataset which is a dataset for training simple neural networks on handwritten digits\n",
    "\n",
    "We will train and run our model on subsets of them"
   ]
  },
  {
   "cell_type": "code",
   "execution_count": 2,
   "metadata": {},
   "outputs": [
    {
     "data": {
      "text/html": [
       "<div>\n",
       "<style scoped>\n",
       "    .dataframe tbody tr th:only-of-type {\n",
       "        vertical-align: middle;\n",
       "    }\n",
       "\n",
       "    .dataframe tbody tr th {\n",
       "        vertical-align: top;\n",
       "    }\n",
       "\n",
       "    .dataframe thead th {\n",
       "        text-align: right;\n",
       "    }\n",
       "</style>\n",
       "<table border=\"1\" class=\"dataframe\">\n",
       "  <thead>\n",
       "    <tr style=\"text-align: right;\">\n",
       "      <th></th>\n",
       "      <th>label</th>\n",
       "      <th>pixel0</th>\n",
       "      <th>pixel1</th>\n",
       "      <th>pixel2</th>\n",
       "      <th>pixel3</th>\n",
       "      <th>pixel4</th>\n",
       "      <th>pixel5</th>\n",
       "      <th>pixel6</th>\n",
       "      <th>pixel7</th>\n",
       "      <th>pixel8</th>\n",
       "      <th>...</th>\n",
       "      <th>pixel774</th>\n",
       "      <th>pixel775</th>\n",
       "      <th>pixel776</th>\n",
       "      <th>pixel777</th>\n",
       "      <th>pixel778</th>\n",
       "      <th>pixel779</th>\n",
       "      <th>pixel780</th>\n",
       "      <th>pixel781</th>\n",
       "      <th>pixel782</th>\n",
       "      <th>pixel783</th>\n",
       "    </tr>\n",
       "  </thead>\n",
       "  <tbody>\n",
       "    <tr>\n",
       "      <th>0</th>\n",
       "      <td>1</td>\n",
       "      <td>0</td>\n",
       "      <td>0</td>\n",
       "      <td>0</td>\n",
       "      <td>0</td>\n",
       "      <td>0</td>\n",
       "      <td>0</td>\n",
       "      <td>0</td>\n",
       "      <td>0</td>\n",
       "      <td>0</td>\n",
       "      <td>...</td>\n",
       "      <td>0</td>\n",
       "      <td>0</td>\n",
       "      <td>0</td>\n",
       "      <td>0</td>\n",
       "      <td>0</td>\n",
       "      <td>0</td>\n",
       "      <td>0</td>\n",
       "      <td>0</td>\n",
       "      <td>0</td>\n",
       "      <td>0</td>\n",
       "    </tr>\n",
       "    <tr>\n",
       "      <th>1</th>\n",
       "      <td>0</td>\n",
       "      <td>0</td>\n",
       "      <td>0</td>\n",
       "      <td>0</td>\n",
       "      <td>0</td>\n",
       "      <td>0</td>\n",
       "      <td>0</td>\n",
       "      <td>0</td>\n",
       "      <td>0</td>\n",
       "      <td>0</td>\n",
       "      <td>...</td>\n",
       "      <td>0</td>\n",
       "      <td>0</td>\n",
       "      <td>0</td>\n",
       "      <td>0</td>\n",
       "      <td>0</td>\n",
       "      <td>0</td>\n",
       "      <td>0</td>\n",
       "      <td>0</td>\n",
       "      <td>0</td>\n",
       "      <td>0</td>\n",
       "    </tr>\n",
       "    <tr>\n",
       "      <th>2</th>\n",
       "      <td>1</td>\n",
       "      <td>0</td>\n",
       "      <td>0</td>\n",
       "      <td>0</td>\n",
       "      <td>0</td>\n",
       "      <td>0</td>\n",
       "      <td>0</td>\n",
       "      <td>0</td>\n",
       "      <td>0</td>\n",
       "      <td>0</td>\n",
       "      <td>...</td>\n",
       "      <td>0</td>\n",
       "      <td>0</td>\n",
       "      <td>0</td>\n",
       "      <td>0</td>\n",
       "      <td>0</td>\n",
       "      <td>0</td>\n",
       "      <td>0</td>\n",
       "      <td>0</td>\n",
       "      <td>0</td>\n",
       "      <td>0</td>\n",
       "    </tr>\n",
       "    <tr>\n",
       "      <th>3</th>\n",
       "      <td>4</td>\n",
       "      <td>0</td>\n",
       "      <td>0</td>\n",
       "      <td>0</td>\n",
       "      <td>0</td>\n",
       "      <td>0</td>\n",
       "      <td>0</td>\n",
       "      <td>0</td>\n",
       "      <td>0</td>\n",
       "      <td>0</td>\n",
       "      <td>...</td>\n",
       "      <td>0</td>\n",
       "      <td>0</td>\n",
       "      <td>0</td>\n",
       "      <td>0</td>\n",
       "      <td>0</td>\n",
       "      <td>0</td>\n",
       "      <td>0</td>\n",
       "      <td>0</td>\n",
       "      <td>0</td>\n",
       "      <td>0</td>\n",
       "    </tr>\n",
       "    <tr>\n",
       "      <th>4</th>\n",
       "      <td>0</td>\n",
       "      <td>0</td>\n",
       "      <td>0</td>\n",
       "      <td>0</td>\n",
       "      <td>0</td>\n",
       "      <td>0</td>\n",
       "      <td>0</td>\n",
       "      <td>0</td>\n",
       "      <td>0</td>\n",
       "      <td>0</td>\n",
       "      <td>...</td>\n",
       "      <td>0</td>\n",
       "      <td>0</td>\n",
       "      <td>0</td>\n",
       "      <td>0</td>\n",
       "      <td>0</td>\n",
       "      <td>0</td>\n",
       "      <td>0</td>\n",
       "      <td>0</td>\n",
       "      <td>0</td>\n",
       "      <td>0</td>\n",
       "    </tr>\n",
       "  </tbody>\n",
       "</table>\n",
       "<p>5 rows × 785 columns</p>\n",
       "</div>"
      ],
      "text/plain": [
       "   label  pixel0  pixel1  pixel2  pixel3  pixel4  pixel5  pixel6  pixel7  \\\n",
       "0      1       0       0       0       0       0       0       0       0   \n",
       "1      0       0       0       0       0       0       0       0       0   \n",
       "2      1       0       0       0       0       0       0       0       0   \n",
       "3      4       0       0       0       0       0       0       0       0   \n",
       "4      0       0       0       0       0       0       0       0       0   \n",
       "\n",
       "   pixel8  ...  pixel774  pixel775  pixel776  pixel777  pixel778  pixel779  \\\n",
       "0       0  ...         0         0         0         0         0         0   \n",
       "1       0  ...         0         0         0         0         0         0   \n",
       "2       0  ...         0         0         0         0         0         0   \n",
       "3       0  ...         0         0         0         0         0         0   \n",
       "4       0  ...         0         0         0         0         0         0   \n",
       "\n",
       "   pixel780  pixel781  pixel782  pixel783  \n",
       "0         0         0         0         0  \n",
       "1         0         0         0         0  \n",
       "2         0         0         0         0  \n",
       "3         0         0         0         0  \n",
       "4         0         0         0         0  \n",
       "\n",
       "[5 rows x 785 columns]"
      ]
     },
     "execution_count": 2,
     "metadata": {},
     "output_type": "execute_result"
    }
   ],
   "source": [
    "handwritting_data_raw = pd.read_csv(\"data/Handwritting_dataset/train.csv\")\n",
    "handwritting_data_raw.head()"
   ]
  },
  {
   "cell_type": "markdown",
   "metadata": {},
   "source": [
    "Each row represents the a handwritten digit in a 28 by 28 pixel grid and the value brigtness of each pixel.\n",
    "\n",
    "This is how a digit would look"
   ]
  },
  {
   "cell_type": "code",
   "execution_count": 3,
   "metadata": {},
   "outputs": [
    {
     "data": {
      "text/plain": [
       "<matplotlib.image.AxesImage at 0x1261221d0>"
      ]
     },
     "execution_count": 3,
     "metadata": {},
     "output_type": "execute_result"
    },
    {
     "data": {
      "image/png": "[encoded data removed]",
      "text/plain": [
       "<Figure size 640x480 with 1 Axes>"
      ]
     },
     "metadata": {},
     "output_type": "display_data"
    }
   ],
   "source": [
    "# convert the data to numpy arrays\n",
    "hData = np.array(handwritting_data_raw).T\n",
    "m, n = hData.T.shape\n",
    "\n",
    "exampleMatrix = hData.T[3][1:].reshape(28, 28)\n",
    "\n",
    "plt.imshow(exampleMatrix, cmap=plt.cm.binary)"
   ]
  },
  {
   "cell_type": "markdown",
   "metadata": {},
   "source": [
    "## Forward Propagation ##\n",
    "This is the passing of data from the input layer to the output layer through the hidden layers. Each neuron after the input to output layer has 2 components called the weights and bias. <b>Weights</b> determine the strength of influence that one neuron has with the next neuron it transmits information to. <b>Biases</b> are the initial value that a weight can possess even if all parameters are 0.\n",
    "\n",
    "The process of information transmission is done through matrix multiplication of the input and the weights and addition of biases of each neutron much resembling a linear function. The result of this is then applied through an activation function. \n",
    "\n",
    "The <b>activation function</b> is a function that changes the output from being linear which gives the neural network all its magic. This is like painting a picture but now from only using straight lines we can introduce curves and contrasts. The activation then refers to the final output value.\n",
    "\n",
    "![Yo](https://miro.medium.com/v2/resize:fit:4800/format:webp/1*U3QZ_Yn4fcjbdUkIwHJ90w.gif)"
   ]
  },
  {
   "cell_type": "markdown",
   "metadata": {},
   "source": [
    "### Math ###\n",
    "<i>A basic understanding of matrices and matrix multiplication is needed<i>\n",
    "\n",
    "So a neuron receives input and applies a linear transformation to it and apply an activation function to it.\n",
    "\n",
    "$$ z = wx + b $$\n",
    "$$ a = f(z) $$\n",
    "\n",
    "Where\n",
    "\n",
    "$$ w(weights) \\in \\mathbb{R}^{m\\times1} ,\\hspace{5mm} x(inputs) \\in \\mathbb{R}^{1\\times m} ,\\hspace{5mm} b(bias), \\hspace{1.5mm} z(linear \\hspace{1.5mm} result), \\hspace{2mm} a(activation) \\in  \\mathbb{R}^1$$\n",
    "\n",
    "and f is the activation function"
   ]
  },
  {
   "cell_type": "markdown",
   "metadata": {},
   "source": [
    "You can scale this up to a whole layer of neurons so where for a neuron in layer i:\n",
    "\n",
    "$$ w^{[i]} = \\begin{bmatrix}w^{[i]}_1, w^{[i]}_2, & \\cdots &, w^{[i]}_n \\end{bmatrix}, \\hspace{5mm} x^{[i]} = \\begin{bmatrix}x^{[i]}_1, x^{[i]}_2, & \\cdots &, x^{[i]}_n \\end{bmatrix}^T \\hspace{3mm} and \\hspace{3mm} b^{[i]} = b^{[i]} $$\n",
    "\n",
    "The operations in the layer can be represented with the equations:\n",
    "\n",
    "$$ Z = WX + B$$\n",
    "$$ A = f(Z) $$\n",
    "\n",
    "where\n",
    "$$ W^{[i]} = \\begin{bmatrix}w^{[i]}_{11} & w^{[i]}_{12} & \\cdots & w^{[i]}_{1n}\\\\ w^{[i]}_{21} & \\ddots& \\cdots & \\vdots \\\\ \\vdots & \\vdots& \\ddots & \\vdots\\\\ w^{[i]}_{m1} & \\cdots & \\cdots & w^{[i]}_{mn}\\\\ \\end{bmatrix}, \\hspace{5mm} X^{[i]} = \\begin{bmatrix}x^{[i]}_{11} & x^{[i]}_{12} & \\cdots & x^{[i]}_{1n}\\\\ x^{[i]}_{21} & \\ddots& \\cdots & \\vdots \\\\ \\vdots & \\vdots& \\ddots & \\vdots\\\\ x^{[i]}_{m1} & \\cdots & \\cdots & x^{[i]}_{mn}\\\\ \\end{bmatrix}^T \\hspace{3mm} and \\hspace{3mm} B^{[i]} = \\begin{bmatrix}b^{[i]}_1 \\\\ b^{[i]}_2 \\\\ \\vdots \\\\ b^{[i]}_m\\end{bmatrix} $$ \n",
    "\n",
    "This works because matrices can be layered"
   ]
  },
  {
   "cell_type": "markdown",
   "metadata": {},
   "source": [
    "So for our neural network we will have 784 neurons in the input layers for the 28 by 28 pixel grid and I chose 1 hidden layer with 16 neurons and lastly the output layer will have 10, corresponding to the 10 digits it could be.\n",
    "\n",
    "<i>Note: The input layer does not have any weights and biases because it introduces primary data.</i>\n",
    "\n",
    "We first want to normalise the pixel data as each value is given from 0 to 255 which is computationally complex whereas working from 0 to 1 is much better.\n",
    "\n",
    "When initialising The values for weights and biases can just be randomised as the values are updated after training."
   ]
  },
  {
   "cell_type": "code",
   "execution_count": 4,
   "metadata": {},
   "outputs": [],
   "source": [
    "class NeuronLayer:\n",
    "    def __init__(self, inputSize, outputSize):\n",
    "        # creates a randomised matrix\n",
    "        self.weights = np.random.rand(outputSize, inputSize) - 0.5\n",
    "        self.bias = np.random.rand(outputSize, 1) - 0.5"
   ]
  },
  {
   "cell_type": "code",
   "execution_count": 5,
   "metadata": {},
   "outputs": [],
   "source": [
    "#Splitting the data\n",
    "Y = hData[0]\n",
    "L0 = hData[1:] / 255\n",
    "L1 = NeuronLayer(784, 16)\n",
    "L2 = NeuronLayer(16, 10)"
   ]
  },
  {
   "cell_type": "markdown",
   "metadata": {},
   "source": [
    "For our activation function we have some guidelines to choosing one that works.\n",
    "<ul>\n",
    "<li><b>Non-linear</b> function, as mentioned earlier to have complexity</li>\n",
    "<li>It has to be <b>differentiable</b> this is to enable optimization which will be seen later when training</li>\n",
    "<li>It should have <b>appropriate range</b>. For classifying multiple classes some functions produce probability functions and for binary classification functions with a smaller range work well</li>\n",
    "<li><b>Computational complexity</b> should be low and effecient to evaluate especially as training large models takes significant resources</li>\n",
    "</ul>\n",
    "\n",
    "Common activation functions are:\n",
    "\n",
    "\n",
    "![activationfunctions](https://lh4.googleusercontent.com/hTeaMXYrsBlpKrGvRCvSX8maYuU4Zhd9-6B_Z3QjnnpE02MhfFK8IHgrDsX9U9SoSw9MIJFQbQyR64PHqNjGfMa8LgUctX5ht0Z21NxqJ-AAd5bU30mFGaTzNhiNuiwO2OVvpfYYFAonf3k8wQTqwGA)\n",
    "\n",
    "The functions we use are : [ReLU]('https://www.nomidl.com/wp-content/uploads/2022/04/image-10.png') which returns values between 0 and 1(We normalised the data) for the hidden layer and [Softmax]('https://siegel.work/blog/ActivationFunctions/img/softmax.png') which returns exaggarated probability values for the output layer\n",
    "\n",
    "$$ ReLU(Z) = max (0,Z) $$\n",
    "$$softmax(Z) = \\frac{e^{z_i}}{\\sum_{j=1}^{N} e^{z_j}} $$"
   ]
  },
  {
   "cell_type": "code",
   "execution_count": 6,
   "metadata": {},
   "outputs": [],
   "source": [
    "def ReLU(Z):\n",
    "    return np.maximum(Z,0)\n",
    "\n",
    "def softmax(Z):\n",
    "    A = np.exp(Z) / sum(np.exp(Z))\n",
    "    return A"
   ]
  },
  {
   "cell_type": "markdown",
   "metadata": {},
   "source": [
    "Lastly lets put all these steps together to create a function called foward propagation"
   ]
  },
  {
   "cell_type": "code",
   "execution_count": 7,
   "metadata": {},
   "outputs": [],
   "source": [
    "def forwardPropagation(input,hiddenlayer,output):\n",
    "    Z1 = hiddenlayer.weights.dot(input) + hiddenlayer.bias\n",
    "    A1 = ReLU(Z1)\n",
    "    Z2 = output.weights.dot(A1) + output.bias\n",
    "    A2 = softmax(Z2)\n",
    "    # print(hiddenlayer['weights'])\n",
    "    return Z1, A1, Z2, A2"
   ]
  },
  {
   "cell_type": "markdown",
   "metadata": {},
   "source": [
    "#### Flow ####\n",
    "\n",
    "$$ \\rightarrow Z^{[1]} = X^{[0]}W^{[1]} + B^{[1]} $$ \n",
    "$$ \\rightarrow A^{[1]} = f_{ReLU}(Z^{[1]}) $$\n",
    "$$ \\rightarrow Z^{[2]} = A^{[1]T}\\hspace{1mm}W^{[2]} + B^{[2]} $$\n",
    "$$ \\rightarrow A^{[2]} = g_{softmax}(Z^{[2]}) $$"
   ]
  },
  {
   "cell_type": "markdown",
   "metadata": {},
   "source": [
    "## Backward Propagation ##\n",
    "So how does the neural network learn?\n",
    "\n",
    "Great question! This is called backpropagation which is the key algorithm for training our model. As you can see we randomised our weights and biases when initialising, this is because adjusting each weight and bias manually would take ages.\n",
    "\n",
    "We train our model by letting our model guess and then telling it how far it was from the correct answer to update its parameters. Your goal is to minimize the distance to the correct answer. Think of training a neural network like navigating through a maze to reach a treasure. The cost function is like a guide telling you how far you are from the treasure after each step you take. Your goal is to minimize this distance to get as close to the treasure as possible.\n",
    "\n",
    "We call the distance to treasure the <b>Loss function</b>. We then want to change the weights and biases in each layer to minimize this. \n",
    "\n",
    "![bpflow](https://qph.cf2.quoracdn.net/main-qimg-aa0cc96279f525b44bbde531ec1e9a9c)\n",
    "\n",
    "\n",
    "We use a method called <b>gradient descent</b>. This is subtracting a value from the parameters relative to the gradient of the loss function to approach the minimum value. It's like taking small steps down to approach the minima. The length of the step we chose to go down by is the <b>learning rate</b>.\n",
    "\n",
    "\n",
    "![gradientdesc](https://media.licdn.com/dms/image/D4D12AQElGrpg2NiisQ/article-cover_image-shrink_600_2000/0/1707688084849?e=2147483647&v=beta&t=iBiIxGUrle6a1mlTadU-0vWvyVjCxW7DBa5qXqK_Qa4)\n"
   ]
  },
  {
   "cell_type": "markdown",
   "metadata": {},
   "source": [
    "### Math ###\n",
    "<i>The tricky bit. It's long and gruesome and you can colapse it if you'd like, but it is the derivation of possibly the coolest code we have ever made</i>\n",
    "\n",
    "A decent understanding of calculus is needed but the steps we take are:\n",
    "<ul>\n",
    "<li>Chose a loss function</li>\n",
    "<li>Minimize it with respect to weights and biases</li>\n",
    "<li>Gradient descent. These are the steps that vary the weights and biases to most effeciently decrease the loss function</li>\n",
    "</ul>"
   ]
  },
  {
   "cell_type": "markdown",
   "metadata": {},
   "source": [
    "#### Derivations ####"
   ]
  },
  {
   "cell_type": "markdown",
   "metadata": {},
   "source": [
    "We first need to chose a loss function. To keep it simple we will use a binary cross entropy loss function which simplifies well when minimizing.\n",
    "$$ L = -\\frac{1}{m} \\sum_{i=1}^{m} \\hspace{2mm} y_i\\ln{\\hat{y_i}} + (1-y_i)ln{(1 - \\hat{y_i})} $$\n",
    "$$ L = \\text{loss} \\hspace{5mm} m = \\text{number of output neurons} \\hspace{5mm} y_i = \\text{correct probability} \\hspace{5mm} \\hat{y_i} = \\text{predicted probability} $$\n",
    "\n",
    "We can represent this with our matrix notation from before:\n",
    "\n",
    "$$ L = -\\frac{1}{m} \\sum_{i=1}^{m} \\hspace{2mm} y_i\\ln{a^{[2]}_i} + (1-y_i)ln{(1 - a^{[2]}_i)} $$\n",
    "\n",
    "<!-- $$ L = \\frac{1}{m} \\sum_{i=1}^{m} \\hspace{2mm} Y\\ln{A^{[2]}} + (1-Y)ln{(1 - A^{[2]})} $$ -->\n",
    "\n",
    "As\n",
    "$$ \\hat{y} = a^{[2]} \\hspace{5mm} $$\n",
    "\n",
    "\n",
    "Now we want want this loss to decrease most for the smallest change in the weights and biases. As usual with minimization problems we need calculus. \n",
    "Differenciate the loss with respect to the predictions for a single output neuron\n",
    "\n",
    "$$ \\frac{dL}{da^{[2]}_i}= -\\frac{y_i}{a^{[2]}_i} + \\frac{1-y_i}{1-a^{[2]}_i}$$\n",
    "We then want to then find the the minimum with respect to the weight and biases. \n",
    "\n",
    "To get the minimum of the loss with respect to the weights we need to calculate the partial deriavtive. Which we can use the chain rule:\n",
    "\n",
    "$$ \\frac{dL}{dz^{[2]}_i} =  \\frac{\\partial L}{\\partial a^{[2]}_i}  \\frac{\\partial a^{[2]}_i}{\\partial z^{[2]}_i} $$\n",
    "<!-- $$ \\frac{dL}{dZ} =  \\frac{\\partial L}{\\partial A^{[2]}}  \\frac{\\partial A^{[2]}}{\\partial Z^{[2]}}, \\hspace{5mm} \\frac{\\partial L}{\\partial W^{[2]}} = \\frac{\\partial L}{\\partial Z^{[2]}} \\frac{\\partial Z^{[2]}}{\\partial W^{[2]}} \\hspace{5mm} and \\hspace{5mm} \\frac{\\partial L}{\\partial B^{[2]}} = \\frac{\\partial L^{[2]}}{\\partial Z^{[2]}}  \\frac{\\partial Z^{[2]}}{\\partial B^{[2]}}$$ -->\n",
    "\n",
    "\n",
    "\n",
    "\n"
   ]
  },
  {
   "cell_type": "markdown",
   "metadata": {},
   "source": [
    "Since \n",
    "$$ a^{[2]}_i = g(z^{[2]}_i)$$\n",
    "\n",
    "Therefore:\n",
    "$$ \\frac{\\partial a^{[2]}_i}{\\partial z^{[2]}_i} = g'(z^{[2]}_i) $$\n",
    "\n",
    "G is our softmax function who's formula is:\n",
    "$$g(Z) = \\frac{e^{z_i}}{\\sum_{j=1}^{N} e^{z_j}} $$\n",
    "\n",
    "Now we get the derivative using the quotient rule:\n",
    "$$ g'(Z) = \\frac{e^{z_i}(\\sum_{j=1}^{N} e^{z_j}) - e^{z_i}(e^{z_i})}{(\\sum_{j=1}^{N} e^{z_j})^2} $$\n",
    "\n",
    "We factorize:\n",
    "\n",
    "$$ g'(Z) = (\\frac{e^{z_i}}{\\sum_{j=1}^{N} e^{z_j}}) (\\frac{\\sum_{j=1}^{N} e^{z_j}-e^{z_i}} {\\sum_{j=1}^{N} e^{z_j}}) $$\n",
    "\n",
    "We can split the latter part further:\n",
    "\n",
    "$$g'(Z) = (\\frac{e^{z_i}}{\\sum_{j=1}^{N} e^{z_j}}) (1 -\\frac{e^{z_i}} {\\sum_{j=1}^{N} e^{z_j}})$$\n",
    "\n",
    "Now substitute g(Z) where you can:\n",
    "\n",
    "$$ g'(Z) = g(Z) (1 - g(Z)) = A (1 - A)$$\n",
    "\n",
    "It cleans up nicely\n",
    "\n",
    "Now we substitute that in to find dl/dz we get\n",
    "$$ \\frac{\\partial L}{\\partial z^{[2]}_i} =  (-\\frac{y_i}{a^{[2]}_i} + \\frac{1-y_i}{1-a^{[2]}_i}) \\times a^{[2]}_i(1-a^{[2]}_i)$$\n",
    "\n",
    "This simplifies to give us our first computed equation:\n",
    "$$ \\frac{dL}{dz^{[2]}_i} = a^{[2]}_i - y_i $$ \n",
    "\n",
    "We can then scale this up for the whole layer(without the summation):\n",
    "$$ \\frac{dL}{dZ^{[2]}} = \\frac{1}{m}(A^{[2]} - Y) \\tag{1}$$ "
   ]
  },
  {
   "cell_type": "markdown",
   "metadata": {},
   "source": [
    "To get those equations with respect to w and b we multiply that with dz/dw and dz/db.\n",
    "Remember:\n",
    "$$ Z^{[2]} =  W^{[2]}A^{[1]} + B^{[2]} $$\n",
    "\n",
    "so:\n",
    "$$ \\frac{\\partial Z^{[2]}}{\\partial W^{[2]}} = A^{[1]T},  \\hspace{5mm} \\frac{\\partial Z^{[2]}}{\\partial B^{[2]}} = 1 $$\n",
    "\n",
    "Combining to get:\n",
    "$$ \\frac{\\partial L}{\\partial W^{[2]}} = dZ \\times A^{[1]T} \\tag{2} $$\n",
    "\n",
    "Notice in our equations we don't have the summation, this is beacuse the for the weights in the previous neurons are matrices. However since the bias are singular values we reintroduce the sum:\n",
    "$$  \\frac{\\partial L}{\\partial B^{[2]}} = \\sum{dZ^{[2]}} \\tag{3}$$\n"
   ]
  },
  {
   "cell_type": "markdown",
   "metadata": {},
   "source": [
    "Now we continue the chain rule to get the values for all previous weights and biases in the same way\n",
    "\n",
    "$$ \\frac{\\partial Z^{[2]}}{\\partial A^{[1]}} = W^{[2]T},\\hspace{5mm}\\frac{\\partial A^{[1]}}{\\partial Z^{[1]}} = f^\\prime(Z^{[1]}) \\text{ (1 or 0)}, \\hspace{5mm}\\frac{\\partial Z^{[1]}}{\\partial W^{[1]}} = X, \\hspace{5mm}\\frac{\\partial Z^{[1]}}{\\partial B^{[1]}} = 1 $$\n",
    "\n",
    "Also for any derivative of the loss will be represented in short hand\n",
    "$$ \\frac{\\partial L}{\\partial A^{[1]}}  =  dZ^{[2]}\\hspace{1mm}W^{[2]T} \\tag{4}  $$\n",
    "$$ \\frac{\\partial L}{\\partial Z^{[1]}}  =  dA^{[1]} \\times f^\\prime(Z^{[1]}) \\tag{5} $$\n",
    "$$ \\frac{\\partial L}{\\partial W^{[1]}}  =  dZ^{[1]}\\hspace{1mm}X^{[0]T} \\tag{6}  $$\n",
    "$$ \\frac{\\partial L}{\\partial B^{[1]}}  =   \\sum{dZ^{[1]}} \\tag{7}  $$"
   ]
  },
  {
   "cell_type": "markdown",
   "metadata": {},
   "source": [
    "### Final equations ###"
   ]
  },
  {
   "cell_type": "markdown",
   "metadata": {},
   "source": [
    "Derivatives\n",
    "$$ dZ^{[2]} = \\frac{A^{[2]} - Y}{m} $$\n",
    "$$ dW^{[2]} = dZ^{[2]}A^{[2]T} $$\n",
    "$$ dB^{[2]} = \\sum{dZ^{[2]}}$$\n",
    "$$ dA^{[1]} = W^{[2]T}dZ^{[2]} $$\n",
    "$$ dZ^{[1]} = dA^{[1]} \\times f^{\\prime} (Z^{[1]})$$\n",
    "$$ dW^{[1]} = dZ^{[1]} A^{[0]T}$$\n",
    "$$ dB^{[1]} = \\sum{dZ^{[1]}}$$"
   ]
  },
  {
   "cell_type": "markdown",
   "metadata": {},
   "source": [
    "Now we can implement this in code. We also have to encode Y such that it gives a value for 1 on the correct digit and 0 for everything else."
   ]
  },
  {
   "cell_type": "code",
   "execution_count": 8,
   "metadata": {},
   "outputs": [],
   "source": [
    "def one_hot(Y):\n",
    "    one_hot_Y = np.zeros((Y.size, Y.max() + 1))\n",
    "    one_hot_Y[np.arange(Y.size), Y] = 1\n",
    "    one_hot_Y = one_hot_Y.T\n",
    "    return one_hot_Y\n",
    "\n",
    "\n",
    "def dReLU(Z):\n",
    "    # If true multiplie by 1 and 0 otherwise\n",
    "    return Z > 0\n",
    "\n",
    "\n",
    "def gradients(Z1, A1, A2, W2, X, Y):\n",
    "    hotY = one_hot(Y)\n",
    "    dZ2 = (1/m) * (A2 - hotY)\n",
    "    dW2 = dZ2.dot(A1.T)\n",
    "    dB2 = np.sum(dZ2)\n",
    "    dZ1 = W2.T.dot(dZ2) * dReLU(Z1)\n",
    "    dW1 = dZ1.dot(X.T)\n",
    "    dB1 = np.sum(dZ1)\n",
    "    return dW1, dB1, dW2, dB2"
   ]
  },
  {
   "cell_type": "markdown",
   "metadata": {},
   "source": [
    "Changes\n",
    "$$ W^{[2]} := W^{[2]} - \\alpha dW^{[2]}$$\n",
    "$$ B^{[2]} := B^{[2]} - \\alpha dB^{[2]}$$\n",
    "$$ W^{[1]} := W^{[1]} - \\alpha dW^{[1]}$$\n",
    "$$ B^{[1]} := B^{[1]} - \\alpha dB^{[1]}$$"
   ]
  },
  {
   "cell_type": "code",
   "execution_count": 9,
   "metadata": {},
   "outputs": [],
   "source": [
    "def gradientDescent(L1, L2, dW1, dB1, dW2, dB2, alpha):\n",
    "    L1.weights -= alpha * dW1\n",
    "    L1.bias -= alpha * dB1\n",
    "    L2.weights -= alpha * dW2\n",
    "    L2.bias -= alpha * dB2\n",
    "    return L1, L2"
   ]
  },
  {
   "cell_type": "markdown",
   "metadata": {},
   "source": [
    "Now combine into a function called back propagation"
   ]
  },
  {
   "cell_type": "code",
   "execution_count": 10,
   "metadata": {},
   "outputs": [],
   "source": [
    "def backPropagation(Y, L0, L1, L2, Z1, A1, A2, alpha):\n",
    "    dW1, dB1, dW2, dB2 = gradients(Z1, A1, A2, L2.weights, L0, Y)\n",
    "    L1, L2 = gradientDescent(\n",
    "        L1,\n",
    "        L2,\n",
    "        dW1,\n",
    "        dB1,\n",
    "        dW2,\n",
    "        dB2,\n",
    "        alpha,\n",
    "    )\n",
    "    return L1, L2"
   ]
  },
  {
   "cell_type": "markdown",
   "metadata": {},
   "source": [
    "## Train ##\n",
    "Now let's prepare to train and test our model"
   ]
  },
  {
   "cell_type": "code",
   "execution_count": 11,
   "metadata": {},
   "outputs": [],
   "source": [
    "def get_predictions(A2):\n",
    "    return np.argmax(A2, 0)\n",
    "\n",
    "\n",
    "def get_accuracy(predictions, Y):\n",
    "    return np.sum(predictions == Y) / Y.size"
   ]
  },
  {
   "cell_type": "code",
   "execution_count": 12,
   "metadata": {},
   "outputs": [],
   "source": [
    "def Train(Y, L0, L1, L2, alpha, iterations):\n",
    "\n",
    "    for i in range(iterations):\n",
    "        Z1, A1, Z2, A2 = forwardPropagation(L0, L1, L2)\n",
    "        L1, L2 = backPropagation(Y, L0, L1, L2, Z1, A1, A2, alpha)\n",
    "        \n",
    "        if i % 50 == 0:\n",
    "            predictions = get_predictions(A2)\n",
    "            accuracy = get_accuracy(predictions, Y)\n",
    "            \n",
    "            print( f\"Iteration:\", i, \"Accuracy:\", round(accuracy, 6) )\n",
    "    return L1, L2"
   ]
  },
  {
   "cell_type": "code",
   "execution_count": 13,
   "metadata": {},
   "outputs": [
    {
     "name": "stdout",
     "output_type": "stream",
     "text": [
      "Iteration: 0 Accuracy: 0.064214\n",
      "Iteration: 50 Accuracy: 0.63969\n",
      "Iteration: 100 Accuracy: 0.739143\n",
      "Iteration: 150 Accuracy: 0.782143\n",
      "Iteration: 200 Accuracy: 0.806476\n",
      "Iteration: 250 Accuracy: 0.825262\n",
      "Iteration: 300 Accuracy: 0.837738\n",
      "Iteration: 350 Accuracy: 0.84769\n",
      "Iteration: 400 Accuracy: 0.855738\n",
      "Iteration: 450 Accuracy: 0.861929\n",
      "Iteration: 500 Accuracy: 0.867405\n",
      "Iteration: 550 Accuracy: 0.871857\n",
      "Iteration: 600 Accuracy: 0.875881\n",
      "Iteration: 650 Accuracy: 0.879381\n",
      "Iteration: 700 Accuracy: 0.882071\n",
      "Iteration: 750 Accuracy: 0.884857\n",
      "Iteration: 800 Accuracy: 0.887071\n",
      "Iteration: 850 Accuracy: 0.888857\n",
      "Iteration: 900 Accuracy: 0.890714\n",
      "Iteration: 950 Accuracy: 0.892714\n"
     ]
    }
   ],
   "source": [
    "L1, L2 = Train(Y, L0, L1, L2,  0.1, 1000)"
   ]
  },
  {
   "cell_type": "markdown",
   "metadata": {},
   "source": [
    "### Testing our model ###\n",
    "We can no see how accurate our model is on data it hasn't seen before\n",
    "\n",
    "Lets first import our test set"
   ]
  },
  {
   "cell_type": "code",
   "execution_count": 14,
   "metadata": {},
   "outputs": [],
   "source": [
    "handwritting_test_data_raw = pd.read_csv(\"data/Handwritting_dataset/test.csv\")\n",
    "testData = np.array(handwritting_test_data_raw).T / 255"
   ]
  },
  {
   "cell_type": "markdown",
   "metadata": {},
   "source": [
    "Write some methods to visualise the test"
   ]
  },
  {
   "cell_type": "code",
   "execution_count": 15,
   "metadata": {},
   "outputs": [],
   "source": [
    "def makePredictions(X,L1, L2):\n",
    "    Z1, A1, Z2, A2 = forwardPropagation(X, L1, L2)\n",
    "    predictions = get_predictions(A2)\n",
    "    return predictions\n",
    "\n",
    "\n",
    "def testPrediction(index,L1, L2):\n",
    "    current_image = testData[:, index, None]\n",
    "    prediction = makePredictions(testData[:, index, None], L1, L2)\n",
    "    print(\"Prediction: \", prediction)\n",
    "\n",
    "    current_image = current_image.reshape((28, 28)) * 255\n",
    "    plt.gray()\n",
    "    plt.imshow(current_image, interpolation=\"nearest\")\n",
    "    plt.show()"
   ]
  },
  {
   "cell_type": "code",
   "execution_count": 16,
   "metadata": {},
   "outputs": [],
   "source": [
    "import random\n",
    "\n",
    "def randomTest(n, L1, L2):\n",
    "    for i in range(n):\n",
    "        randomNum = random.randrange(0, testData[0].size)\n",
    "        testPrediction(randomNum,L1,L2)"
   ]
  },
  {
   "cell_type": "code",
   "execution_count": 17,
   "metadata": {},
   "outputs": [
    {
     "name": "stdout",
     "output_type": "stream",
     "text": [
      "Prediction:  [8]\n"
     ]
    },
    {
     "data": {
      "image/png": "[encoded data removed]",
      "text/plain": [
       "<Figure size 640x480 with 1 Axes>"
      ]
     },
     "metadata": {},
     "output_type": "display_data"
    },
    {
     "name": "stdout",
     "output_type": "stream",
     "text": [
      "Prediction:  [4]\n"
     ]
    },
    {
     "data": {
      "image/png": "[encoded data removed]",
      "text/plain": [
       "<Figure size 640x480 with 1 Axes>"
      ]
     },
     "metadata": {},
     "output_type": "display_data"
    },
    {
     "name": "stdout",
     "output_type": "stream",
     "text": [
      "Prediction:  [4]\n"
     ]
    },
    {
     "data": {
      "image/png": "[encoded data removed]",
      "text/plain": [
       "<Figure size 640x480 with 1 Axes>"
      ]
     },
     "metadata": {},
     "output_type": "display_data"
    }
   ],
   "source": [
    "randomTest(3,L1,L2)"
   ]
  },
  {
   "cell_type": "markdown",
   "metadata": {},
   "source": [
    "## Some notes ##\n",
    "The functions chosen above are arbitrary and you can swap them out and their equations.\n",
    "\n",
    "This is a simple neural network and there are multiple types of them like convolutional or radial basis, which have been optimised for specific problems, however the underlying concepts are the same.\n",
    "\n",
    "If the math wasn't comprehensive there are hundreds of tutorials that explain much better or with better mathematical rigour than this."
   ]
  },
  {
   "cell_type": "markdown",
   "metadata": {},
   "source": [
    "## Neural net generalisation ##"
   ]
  },
  {
   "cell_type": "code",
   "execution_count": 18,
   "metadata": {},
   "outputs": [],
   "source": [
    "class NeuronLayer:\n",
    "    def __init__(self, inputSize, outputSize):\n",
    "        self.weights = np.random.rand(outputSize, inputSize) - 0.5\n",
    "        self.bias = np.random.rand(outputSize, 1) - 0.5\n",
    "\n",
    "\n",
    "class NeuralNet:\n",
    "    L = []\n",
    "    numOutputs = 0\n",
    "    propagationSteps = 0\n",
    "\n",
    "    # Initialize\n",
    "    def __init__(self, input, numNeuronsPerLayer):\n",
    "        self.L = []\n",
    "        self.L.append(input)\n",
    "        numLayers = len(numNeuronsPerLayer)\n",
    "        \n",
    "        for i in range(numLayers):\n",
    "            if i != 0:\n",
    "                self.L.append(\n",
    "                    NeuronLayer(numNeuronsPerLayer[i - 1], numNeuronsPerLayer[i])\n",
    "                )\n",
    "\n",
    "        self.numOutputs = numNeuronsPerLayer[-1]\n",
    "        self.propagationSteps = numLayers - 1\n",
    "\n",
    "    # Forward propagation functions\n",
    "    def ReLU(self, Z):\n",
    "        return np.maximum(Z, 0)\n",
    "\n",
    "    def softmax(self, Z):\n",
    "        A = np.exp(Z) / sum(np.exp(Z))\n",
    "        return A\n",
    "\n",
    "    def forwardPropagation(self):\n",
    "        L = self.L\n",
    "        pSteps = self.propagationSteps\n",
    "        Z = []\n",
    "        A = [self.L[0]]\n",
    "        for i in range(pSteps):\n",
    "            if i == pSteps - 1:\n",
    "                Z.append(L[i + 1].weights.dot(A[i]) + L[i + 1].bias)\n",
    "                A.append(self.softmax(Z[i]))\n",
    "            else:\n",
    "                Z.append(L[i + 1].weights.dot(A[i]) + L[i + 1].bias)\n",
    "                A.append(self.ReLU(Z[i]))\n",
    "\n",
    "        return A, Z\n",
    "\n",
    "    # Back propagation functions\n",
    "    def one_hot(self, Y):\n",
    "        one_hot_Y = np.zeros((Y.size, Y.max() + 1))\n",
    "        one_hot_Y[np.arange(Y.size), Y] = 1\n",
    "        one_hot_Y = one_hot_Y.T\n",
    "        return one_hot_Y\n",
    "\n",
    "    def dReLU(self, Z):\n",
    "        return Z > 0\n",
    "\n",
    "    def gradients(self, A, Z, Y):\n",
    "        L = self.L\n",
    "        pSteps = self.propagationSteps\n",
    "        m = self.numOutputs\n",
    "        dZ = []\n",
    "        dW = []\n",
    "        dB = []\n",
    "        hotY = self.one_hot(Y)\n",
    "        dZ.append((1 / m) * (A[pSteps] - hotY))\n",
    "\n",
    "        for i in range(pSteps):\n",
    "            dW.append(dZ[i].dot(A[pSteps - i - 1].T))\n",
    "            dB.append(np.sum(dZ[i]))\n",
    "            if i < pSteps - 1:\n",
    "                dZ.append(L[pSteps - i].weights.T.dot(dZ[i]) * self.dReLU(Z[i]))\n",
    "\n",
    "        dZ = dZ[::-1]\n",
    "        dW = dW[::-1]\n",
    "        dB = dB[::-1]\n",
    "        return dW, dB\n",
    "\n",
    "    def gradientDescent(self, dW, dB, alpha):\n",
    "        for i in range(self.propagationSteps):\n",
    "            self.L[i + 1].weights -= alpha * dW[i]\n",
    "            self.L[i + 1].bias -= alpha * dB[i]\n",
    "\n",
    "    def backPropagation(self, Y, A, Z, alpha):\n",
    "        dW, dB = self.gradients(A, Z, Y)\n",
    "        self.gradientDescent(dW, dB, alpha)\n",
    "\n",
    "    def get_predictions(self, O):\n",
    "        return np.argmax(O, 0)\n",
    "\n",
    "    def get_accuracy(self, predictions, Y):\n",
    "        return np.sum(predictions == Y) / Y.size\n",
    "\n",
    "    def Train(self, Y, alpha, iterations):\n",
    "        for i in range(iterations):\n",
    "            A, Z = self.forwardPropagation()\n",
    "            self.backPropagation(Y, A, Z, alpha)\n",
    "\n",
    "            if i % 10 == 0:\n",
    "                predictions = self.get_predictions(A[-1])\n",
    "                accuracy = self.get_accuracy(predictions, Y)\n",
    "\n",
    "                print(f\"Iteration:\", i, \"Accuracy:\", round(accuracy, 6))"
   ]
  }
 ],
 "metadata": {
  "kernelspec": {
   "display_name": "Python 3",
   "language": "python",
   "name": "python3"
  },
  "language_info": {
   "codemirror_mode": {
    "name": "ipython",
    "version": 3
   },
   "file_extension": ".py",
   "mimetype": "text/x-python",
   "name": "python",
   "nbconvert_exporter": "python",
   "pygments_lexer": "ipython3",
   "version": "3.11.4"
  }
 },
 "nbformat": 4,
 "nbformat_minor": 2
}
