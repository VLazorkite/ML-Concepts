{
 "cells": [
  {
   "cell_type": "markdown",
   "metadata": {},
   "source": [
    "# Simple Linear Regression #\n",
    "## Python Tutorial ##\n",
    "\n",
    "Linear regression is an approach to model data that posess a linear correlation\n",
    "\n",
    "\n",
    "Basically in the form: \n",
    "\n",
    "$$ y=m x + b $$\n",
    "\n",
    "Which is tyipcally written and will now be referred to now as:\n",
    "\n",
    "$$ y=\\alpha +\\beta x $$\n",
    "\n",
    "Where $$\\alpha = b, \\hspace{5mm}\\beta = m $$\n",
    "\n"
   ]
  },
  {
   "cell_type": "markdown",
   "metadata": {},
   "source": [
    "However in most real world cases there is some deviation from an exact linear relation and there tends to be some error in each value so the best representation for any data point denoted by i is:\n",
    "\n",
    "$$  y_i = \\alpha + \\beta x_i + \\varepsilon_i $$\n",
    "\n",
    "The aim is to create a linear function that can most accurately model the relationship between 2 variables basically x is a singular variable and not a matrix which is the simple in simple linear regression\n",
    "<hr/>"
   ]
  },
  {
   "cell_type": "markdown",
   "metadata": {},
   "source": [
    "### Importing Libraries ###\n",
    "\n",
    "Here are pieces of other people's code that will help as understand what we're doing along the way\n",
    "\n",
    "To install these click terminal on whichever IDE you're using and use pip to instal eg: <code>pip install matplotlib.pyplot</code>\n"
   ]
  },
  {
   "cell_type": "code",
   "execution_count": 3,
   "metadata": {},
   "outputs": [],
   "source": [
    "import numpy as np\n",
    "import matplotlib.pyplot as plt\n",
    "import pandas as pd\n",
    "import math"
   ]
  },
  {
   "cell_type": "markdown",
   "metadata": {},
   "source": [
    "## How to do It ##"
   ]
  },
  {
   "cell_type": "markdown",
   "metadata": {},
   "source": [
    "### Years of experience to salary dataset ###\n",
    "\n",
    "This is a dataset downloaded from kaggle but it's on the repository just download it\n",
    "\n",
    "We will train and run our model on it"
   ]
  },
  {
   "cell_type": "code",
   "execution_count": 4,
   "metadata": {},
   "outputs": [
    {
     "data": {
      "text/html": [
       "<div>\n",
       "<style scoped>\n",
       "    .dataframe tbody tr th:only-of-type {\n",
       "        vertical-align: middle;\n",
       "    }\n",
       "\n",
       "    .dataframe tbody tr th {\n",
       "        vertical-align: top;\n",
       "    }\n",
       "\n",
       "    .dataframe thead th {\n",
       "        text-align: right;\n",
       "    }\n",
       "</style>\n",
       "<table border=\"1\" class=\"dataframe\">\n",
       "  <thead>\n",
       "    <tr style=\"text-align: right;\">\n",
       "      <th></th>\n",
       "      <th>YearsExperience</th>\n",
       "      <th>Salary</th>\n",
       "    </tr>\n",
       "  </thead>\n",
       "  <tbody>\n",
       "    <tr>\n",
       "      <th>0</th>\n",
       "      <td>1.2</td>\n",
       "      <td>39344.0</td>\n",
       "    </tr>\n",
       "    <tr>\n",
       "      <th>1</th>\n",
       "      <td>1.4</td>\n",
       "      <td>46206.0</td>\n",
       "    </tr>\n",
       "    <tr>\n",
       "      <th>2</th>\n",
       "      <td>1.6</td>\n",
       "      <td>37732.0</td>\n",
       "    </tr>\n",
       "    <tr>\n",
       "      <th>3</th>\n",
       "      <td>2.1</td>\n",
       "      <td>43526.0</td>\n",
       "    </tr>\n",
       "    <tr>\n",
       "      <th>4</th>\n",
       "      <td>2.3</td>\n",
       "      <td>39892.0</td>\n",
       "    </tr>\n",
       "  </tbody>\n",
       "</table>\n",
       "</div>"
      ],
      "text/plain": [
       "   YearsExperience   Salary\n",
       "0              1.2  39344.0\n",
       "1              1.4  46206.0\n",
       "2              1.6  37732.0\n",
       "3              2.1  43526.0\n",
       "4              2.3  39892.0"
      ]
     },
     "execution_count": 4,
     "metadata": {},
     "output_type": "execute_result"
    }
   ],
   "source": [
    "salary_data = pd.read_csv(\"data/Salary_dataset.csv\")\n",
    "salary_data.drop(\"Unnamed: 0\", axis=1, inplace=True)\n",
    "salary_data.head()"
   ]
  },
  {
   "cell_type": "code",
   "execution_count": 5,
   "metadata": {},
   "outputs": [
    {
     "data": {
      "text/html": [
       "<div>\n",
       "<style scoped>\n",
       "    .dataframe tbody tr th:only-of-type {\n",
       "        vertical-align: middle;\n",
       "    }\n",
       "\n",
       "    .dataframe tbody tr th {\n",
       "        vertical-align: top;\n",
       "    }\n",
       "\n",
       "    .dataframe thead th {\n",
       "        text-align: right;\n",
       "    }\n",
       "</style>\n",
       "<table border=\"1\" class=\"dataframe\">\n",
       "  <thead>\n",
       "    <tr style=\"text-align: right;\">\n",
       "      <th></th>\n",
       "      <th>YearsExperience</th>\n",
       "      <th>Salary</th>\n",
       "    </tr>\n",
       "  </thead>\n",
       "  <tbody>\n",
       "    <tr>\n",
       "      <th>count</th>\n",
       "      <td>30.000000</td>\n",
       "      <td>30.000000</td>\n",
       "    </tr>\n",
       "    <tr>\n",
       "      <th>mean</th>\n",
       "      <td>5.413333</td>\n",
       "      <td>76004.000000</td>\n",
       "    </tr>\n",
       "    <tr>\n",
       "      <th>std</th>\n",
       "      <td>2.837888</td>\n",
       "      <td>27414.429785</td>\n",
       "    </tr>\n",
       "    <tr>\n",
       "      <th>min</th>\n",
       "      <td>1.200000</td>\n",
       "      <td>37732.000000</td>\n",
       "    </tr>\n",
       "    <tr>\n",
       "      <th>25%</th>\n",
       "      <td>3.300000</td>\n",
       "      <td>56721.750000</td>\n",
       "    </tr>\n",
       "    <tr>\n",
       "      <th>50%</th>\n",
       "      <td>4.800000</td>\n",
       "      <td>65238.000000</td>\n",
       "    </tr>\n",
       "    <tr>\n",
       "      <th>75%</th>\n",
       "      <td>7.800000</td>\n",
       "      <td>100545.750000</td>\n",
       "    </tr>\n",
       "    <tr>\n",
       "      <th>max</th>\n",
       "      <td>10.600000</td>\n",
       "      <td>122392.000000</td>\n",
       "    </tr>\n",
       "  </tbody>\n",
       "</table>\n",
       "</div>"
      ],
      "text/plain": [
       "       YearsExperience         Salary\n",
       "count        30.000000      30.000000\n",
       "mean          5.413333   76004.000000\n",
       "std           2.837888   27414.429785\n",
       "min           1.200000   37732.000000\n",
       "25%           3.300000   56721.750000\n",
       "50%           4.800000   65238.000000\n",
       "75%           7.800000  100545.750000\n",
       "max          10.600000  122392.000000"
      ]
     },
     "execution_count": 5,
     "metadata": {},
     "output_type": "execute_result"
    }
   ],
   "source": [
    "# Not important but if you want to see more data\n",
    "salary_data.describe()"
   ]
  },
  {
   "cell_type": "markdown",
   "metadata": {},
   "source": [
    "We can plot the data on a graph"
   ]
  },
  {
   "cell_type": "code",
   "execution_count": 6,
   "metadata": {},
   "outputs": [
    {
     "data": {
      "image/png": "[encoded data removed]",
      "text/plain": [
       "<Figure size 640x480 with 1 Axes>"
      ]
     },
     "metadata": {},
     "output_type": "display_data"
    }
   ],
   "source": [
    "x = salary_data[\"YearsExperience\"]\n",
    "y = salary_data[\"Salary\"]\n",
    "\n",
    "# Create a scatter plot of the data points\n",
    "plt.scatter(x, y, color=\"blue\", label=\"Data Points\")\n",
    "\n",
    "# Label the axes and add a title\n",
    "plt.xlabel(\"Experience (Years)\")\n",
    "plt.ylabel(\"Salary (pounds)\")\n",
    "plt.title(\"Simple Linear Regression: Experience vs Salary\")\n",
    "\n",
    "# Add a legend\n",
    "plt.legend()\n",
    "\n",
    "# Show the plot\n",
    "plt.show()"
   ]
  },
  {
   "cell_type": "markdown",
   "metadata": {},
   "source": [
    "### Training a model ###\n",
    "\n",
    "<!-- We download/import a set of data to train our model on and set of data to test the model on -->\n",
    "\n",
    "We use split the data in order to train it\n",
    "\n",
    "Import this using <code>pip install -U scikit-learn</code>\n",
    "\n",
    "We use it to split the data into a train set and a test set\n",
    "\n",
    "There will be a lot of math and proofs but feel free to collapse it if you don't care for the proof and just trust me with the final equations"
   ]
  },
  {
   "cell_type": "code",
   "execution_count": 7,
   "metadata": {},
   "outputs": [],
   "source": [
    "from sklearn.model_selection import train_test_split"
   ]
  },
  {
   "cell_type": "code",
   "execution_count": 8,
   "metadata": {},
   "outputs": [],
   "source": [
    "x_train, x_test, y_train, y_test = train_test_split(\n",
    "    x, y, test_size=0.33\n",
    ")"
   ]
  },
  {
   "cell_type": "markdown",
   "metadata": {},
   "source": [
    "We can plot the train data:"
   ]
  },
  {
   "cell_type": "code",
   "execution_count": 9,
   "metadata": {},
   "outputs": [
    {
     "data": {
      "image/png": "[encoded data removed]",
      "text/plain": [
       "<Figure size 640x480 with 1 Axes>"
      ]
     },
     "metadata": {},
     "output_type": "display_data"
    }
   ],
   "source": [
    "# Create a scatter plot of the data points\n",
    "plt.scatter(x_train, y_train, color=\"blue\", label=\"Data Points\")\n",
    "\n",
    "# Label the axes and add a title\n",
    "plt.xlabel(\"Experience (Years)\")\n",
    "plt.ylabel(\"Salary (pounds)\")\n",
    "plt.title(\"Simple Linear Regression: Experience vs Salary\")\n",
    "\n",
    "# Add a legend\n",
    "plt.legend()\n",
    "\n",
    "# Show the plot\n",
    "plt.show()"
   ]
  },
  {
   "cell_type": "markdown",
   "metadata": {},
   "source": [
    "## Math ##\n",
    "Now we have data points and we need to calculate the gradient and y-intercept of the line of best fit\n",
    "\n",
    "However we have an error in each point where we want to minimise to have the least effect on the line of best fit\n",
    "\n",
    "This is the long bit where i derive the formulas we use its a bit long and rigorous so feel free to collapse the proof(click on the arrow beside derivations) however if you're curious to know there it is"
   ]
  },
  {
   "cell_type": "markdown",
   "metadata": {},
   "source": [
    "### Derivations ###"
   ]
  },
  {
   "cell_type": "markdown",
   "metadata": {},
   "source": [
    "Let's isolate the error value from the equation:\n",
    "\n",
    "$$  y_i = \\alpha + \\beta x_i + \\varepsilon_i $$\n",
    "\n",
    "to:\n",
    "\n",
    "$$ \\varepsilon_i = y_i - \\alpha - \\beta x_i $$\n",
    "\n",
    "The total absolute error is given by:\n",
    "\n",
    "$$ E = \\sum_{i=1}^{n} (y_{i} - \\alpha - \\beta x_{i})^2 \\tag{1} $$\n",
    "\n",
    "Because errors can be positive or negative we square each error term to be positive this is called the sum of squared residuals which is denoted as SSR or RSS"
   ]
  },
  {
   "cell_type": "markdown",
   "metadata": {},
   "source": [
    "We want to minimise this value relative to both alpha and beta in order to get the most accurate line\n",
    "\n",
    "Let's start with alpha: to minimise the variable relative to another we find the partial derivative and equate it to 0\n",
    "\n",
    "This gives us:\n",
    "\n",
    "$$ \\frac{\\partial E}{\\partial \\alpha}=\\sum_{i=1}^{n}2\\left(y_{i}-\\alpha-\\beta x_{i}\\right)=0 \\tag{2} $$\n",
    "\n",
    "Divide out by -2 on both sides gives us:\n",
    "\n",
    "$$ \\frac{\\partial E}{\\partial \\alpha}=\\sum_{i=1}^{n} \\left(y_{i}-\\alpha-\\beta x_{i}\\right)=0 \\tag{3} $$\n",
    "\n",
    "Expand the brackets to give us:\n",
    "\n",
    "$$ \\sum_{i=1}^{n} y_{i} - \\sum_{i=1}^{n} \\alpha - \\sum_{i=1}^{n}\\beta x_{i} = 0 \\tag{4}$$\n",
    "\n",
    "Remember:\n",
    "\n",
    "$$ \\sum_{i=1}^{n} y_{i} = N{\\bar {y}}, \\hspace{5mm} \\sum_{i=1}^{n} x_{i} = N{\\bar {x}} \\hspace{5mm} and \\hspace{5mm} \\sum_{i=1}^{n} c = Nc \\tag{5} $$\n",
    "\n",
    "Then you can substitue rearange to give you:\n",
    "\n",
    "$$ n \\alpha=n \\bar{y}-n \\beta \\bar{x} \\tag{6}$$\n",
    "\n",
    "Dividing out by n gets us:\n",
    "\n",
    "$$ \\alpha=\\bar{y}-\\beta \\bar{x} \\tag{7} $$ "
   ]
  },
  {
   "cell_type": "markdown",
   "metadata": {},
   "source": [
    "To get beta we do the same thing: minimising the function relative to it which gives us:\n",
    "\n",
    "$$ \\frac{\\partial E}{\\partial \\beta}=\\sum_{i=1}^{n}-2x_{i}\\left(y_{i}-\\alpha-\\beta x_{i}\\right)=0 \\tag{8} $$\n",
    "\n",
    "divide out by -2:\n",
    "\n",
    "$$ \\frac{\\partial E}{\\partial \\beta}=\\sum_{i=1}^{n}x_{i}\\left(y_{i}-\\alpha-\\beta x_{i}\\right)=0 \\tag{9} $$\n",
    "\n",
    "We multiply out the x to give us:\n",
    "\n",
    "$$ \\sum_{i=1}^{n} (x_{i} y_{i}-\\alpha x_{i}-\\beta x_{i}^{2})=0 \\tag{10}$$\n",
    "\n",
    "Substitute the $\\alpha$ we got before:\n",
    "\n",
    "$$ \\sum_{i=1}^{n} (x_{i} y_{i}-x_{i}(\\bar{y}-\\beta \\bar{x})-\\beta x_{i}^{2})=0 \\tag{11}$$\n",
    "\n",
    "Expand it:\n",
    "\n",
    "$$ \\sum_{i=1}^{n} (x_{i}y_{i} - x_{i}\\bar{y} + \\beta x_{i}\\bar{x} - \\beta x_{i}^2) = 0 \\tag{12}$$\n",
    "\n",
    "Split it:\n",
    "\n",
    "$$ \\sum_{i=1}^{n} (x_{i}y_{i} - x_{i}\\bar{y}) + \\beta \\sum_{i=1}^{n} (x_{i}\\bar{x} - x_{i}^2) = 0 \\tag{13} $$\n",
    "\n",
    "Expanding further:\n",
    "\n",
    "$$  \\sum_{i=1}^{n} x_{i}y_{i} - \\bar{y} \\sum_{i=1}^{n} x_{i} + \\beta\\bar{x} \\sum_{i=1}^{n} x_{i} - \\beta \\sum_{i=1}^{n} x_{i}^2 = 0 \\tag{14}$$\n",
    "\n",
    "Using the equations from before and rearanging we get:\n",
    "\n",
    "$$ \\sum_{i=1}^{n} x_{i}y_{i} - n\\bar{x}\\bar{y} = -\\beta n \\bar{x}^2 + \\beta \\sum_{i=1}^{n} x_{i}^2 \\tag{15}$$\n",
    "\n",
    "Solving for beta we get:\n",
    "\n",
    "$$ \\beta = \\frac{\\sum_{i=1}^{n} x_{i}y_{i} - n\\bar{x}\\bar{y}} {\\sum_{i=1}^{n} x_{i}^2 - n\\bar{x}^2} \\tag{16}$$\n",
    "\n",
    "While this is enough we can make it computationally easier, you can show:\n",
    "\n",
    "$$ \\hspace{5mm} \\sum_{i=1}^{n}(x_{i} - \\bar{x}) (y_{i} - \\bar{y}) \\hspace{2.5mm} = \\hspace{2.5mm} \\sum_{i=1}^{n} x_{i}y_{i} - n\\bar{x}\\bar{y} \\tag{17}$$\n",
    "\n",
    "and:\n",
    "\n",
    "$$ \\hspace{5mm} \\sum _{i=1}^{n}(x_{i}-{\\bar {x}})^{2} \\hspace{2.5mm} = \\hspace{2.5mm} \\sum_{i=1}^{n} x_{i}^2 - n\\bar{x} \\tag{18} $$\n",
    "\n",
    "We can therefore rewrite beta as:\n",
    "\n",
    "$$ \\beta = \\frac{\\sum _{i=1}^{n}(x_{i}-{\\bar {x}})(y_{i}-{\\bar {y}})}{\\sum _{i=1}^{n}(x_{i}-{\\bar {x}})^{2}}\\tag{19} $$"
   ]
  },
  {
   "cell_type": "markdown",
   "metadata": {},
   "source": [
    "### Final Equation gives us ###\n",
    "\n",
    "$$ \\alpha=\\bar{y}-\\beta \\bar{x} $$ \n",
    "\n",
    "$$ \\beta = \\frac{\\sum _{i=1}^{n}(x_{i}-{\\bar {x}})(y_{i}-{\\bar {y}})}{\\sum _{i=1}^{n}(x_{i}-{\\bar {x}})^{2}} $$\n"
   ]
  },
  {
   "cell_type": "markdown",
   "metadata": {},
   "source": [
    "Note what we will be deriving is our estimated line of best fit which we denote with hat notation:\n",
    "\n",
    "$$ y = \\widehat{\\alpha} + \\widehat{\\beta} x $$\n",
    "\n",
    "Now lets calculate it with code"
   ]
  },
  {
   "cell_type": "code",
   "execution_count": 10,
   "metadata": {},
   "outputs": [],
   "source": [
    "#You can also use loops to calculate mean but these are numpy arrays so you dont have to\n",
    "xBar = x_train.mean()\n",
    "yBar = y_train.mean()\n",
    "\n",
    "#calculate the numerator and  denominator seperately\n",
    "betahatNumerator = 0\n",
    "betahatDenominator = 0\n",
    "\n",
    "for x_i, y_i in zip(x_train, y_train):\n",
    "    betahatNumerator += (x_i - xBar) * (y_i - yBar)\n",
    "    betahatDenominator += (x_i - xBar) ** 2\n",
    "\n",
    "betahat = betahatNumerator/betahatDenominator\n",
    "\n",
    "alphahat = yBar - betahat * xBar"
   ]
  },
  {
   "cell_type": "markdown",
   "metadata": {},
   "source": [
    "Let's plot and see how it looks"
   ]
  },
  {
   "cell_type": "code",
   "execution_count": 13,
   "metadata": {},
   "outputs": [
    {
     "data": {
      "image/png": "[encoded data removed]",
      "text/plain": [
       "<Figure size 640x480 with 1 Axes>"
      ]
     },
     "metadata": {},
     "output_type": "display_data"
    }
   ],
   "source": [
    "# Create a scatter plot of the data points\n",
    "plt.scatter(x_train, y_train, color=\"blue\", label=\"Train Data Points\")\n",
    "\n",
    "# Generate values for the regression line\n",
    "x_values = np.linspace(min(x), max(x), 100)\n",
    "y_values = betahat * x_values + alphahat\n",
    "\n",
    "# Plot the regression line\n",
    "plt.plot(x_values, y_values, color=\"red\", label=\"Regression Line\")\n",
    "\n",
    "# Label the axes and add a title\n",
    "plt.xlabel(\"Experience (Years)\")\n",
    "plt.ylabel(\"Salary (pounds)\")\n",
    "plt.title(\"Simple Linear Regression: Experience vs Salary\")\n",
    "\n",
    "\n",
    "# Add the test points\n",
    "plt.scatter(x_test, y_test, color=\"green\", label=\"Test Data Points\", marker=\"x\")\n",
    "\n",
    "# Add a legend\n",
    "plt.legend()\n",
    "\n",
    "# Show the plot\n",
    "plt.show()"
   ]
  },
  {
   "cell_type": "markdown",
   "metadata": {},
   "source": [
    "### Test the Model ###\n",
    "\n",
    "Now we test our model and see how well we predict it\n",
    "\n",
    "To test it we compare the SSR and mean root squared error"
   ]
  },
  {
   "cell_type": "markdown",
   "metadata": {},
   "source": [
    "Create a function that predicts the y value based on our regression line "
   ]
  },
  {
   "cell_type": "code",
   "execution_count": 27,
   "metadata": {},
   "outputs": [
    {
     "data": {
      "text/plain": [
       "25318.44708286703"
      ]
     },
     "execution_count": 27,
     "metadata": {},
     "output_type": "execute_result"
    }
   ],
   "source": [
    "def yPred(x, alphahat, betahat):\n",
    "    return alphahat + (betahat * x)\n"
   ]
  },
  {
   "cell_type": "markdown",
   "metadata": {},
   "source": [
    "Here we make a function that goes over x and y to calculate the SSR of any data set\n",
    "\n",
    "\n",
    "Remember from the initial step in the derivations:\n",
    "$$ SSR = \\sum_{i=1}^{n} (y_{i} - \\widehat{\\alpha} - \\widehat{\\beta} x_{i})^2 $$\n"
   ]
  },
  {
   "cell_type": "code",
   "execution_count": 18,
   "metadata": {},
   "outputs": [],
   "source": [
    "def SSR(xSet, ySet, alphahat, betahat):\n",
    "    SSR = 0\n",
    "    for x_i, y_i in zip(xSet, ySet):\n",
    "        SSR += (y_i - yPred(x_i, alphahat, betahat)) ** 2\n",
    "\n",
    "    return SSR"
   ]
  },
  {
   "cell_type": "markdown",
   "metadata": {},
   "source": [
    "If the ratio of test to train mean error is less than 1 it means the test data is within the predicted error we used to train"
   ]
  },
  {
   "cell_type": "code",
   "execution_count": 34,
   "metadata": {},
   "outputs": [
    {
     "name": "stdout",
     "output_type": "stream",
     "text": [
      "0.8754797901012227\n"
     ]
    }
   ],
   "source": [
    "trainSSR = SSR(x_train, y_train, alphahat, betahat)\n",
    "testSSR = SSR(x_test, y_test, alphahat, betahat)\n",
    "\n",
    "# root mean of squared residuals\n",
    "rmTrainSSR = math.sqrt(trainSSR / len(x_train))\n",
    "rmTestSSR = math.sqrt(testSSR / len(x_test))\n",
    "\n",
    "ratio = rmTestSSR/ rmTrainSSR\n",
    "print(ratio)"
   ]
  },
  {
   "cell_type": "markdown",
   "metadata": {},
   "source": [
    "## Some notes ##\n",
    "\n",
    "Won't go in depth on these here but perehaps in another tutorial"
   ]
  },
  {
   "cell_type": "markdown",
   "metadata": {},
   "source": [
    "In order to know whether the data has a linear relationship you actually test the corellation of the data using pearson's correlation coeffeccient and the further away from 0 the better\n",
    "\n",
    "The formula is similar to what we saw earlier gven as:\n",
    "\n",
    "$$ r = \\frac{\\sum _{i=1}^{n}(x_{i}-{\\bar {x}})(y_{i}-{\\bar {y}})}{\\sqrt{\\sum _{i=1}^{n}(y_{i}-{\\bar {y}})^{2} \\sum _{i=1}^{n}(x_{i}-{\\bar {x}})^{2}}} $$\n",
    "\n",
    "Or more generally:\n",
    "\n",
    "$$ r = \\frac{Cov (X,Y)}{\\sqrt{Var(X) Var(Y)}} $$"
   ]
  },
  {
   "cell_type": "code",
   "execution_count": null,
   "metadata": {},
   "outputs": [],
   "source": []
  }
 ],
 "metadata": {
  "kernelspec": {
   "display_name": "Python 3",
   "language": "python",
   "name": "python3"
  },
  "language_info": {
   "codemirror_mode": {
    "name": "ipython",
    "version": 3
   },
   "file_extension": ".py",
   "mimetype": "text/x-python",
   "name": "python",
   "nbconvert_exporter": "python",
   "pygments_lexer": "ipython3",
   "version": "3.11.4"
  }
 },
 "nbformat": 4,
 "nbformat_minor": 2
}
